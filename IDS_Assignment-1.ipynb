{
 "cells": [
  {
   "cell_type": "markdown",
   "id": "9bda93ba",
   "metadata": {
    "id": "9bda93ba"
   },
   "source": [
    "# <center>        **Introduction to Data Science (S2-22_DSECLZG532)-ASSIGNMENT**</center>\n",
    "\n",
    "## Group No\n",
    "\n",
    "## Group Member Names:\n",
    "1. Divya Jyoti Das\n",
    "2. Sweta Das\n",
    "3. Soumya Charan Das\n",
    "4."
   ]
  },
  {
   "cell_type": "markdown",
   "id": "f5d80c60",
   "metadata": {
    "id": "f5d80c60"
   },
   "source": [
    "# 1. Business Understanding\n",
    "\n",
    "Students are expected to identify an analytical problem of your choice. You have to detail the Business Understanding part of your problem under this heading which basically addresses the following questions.\n",
    "\n",
    "   1. What is the business problem that you are trying to solve?\n",
    "   2. What data do you need to answer the above problem?\n",
    "   3. What are the different sources of data?\n",
    "   4. What kind of analytics task are you performing?\n",
    "\n",
    "Score: 1 Mark in total (0.25 mark each)"
   ]
  },
  {
   "cell_type": "raw",
   "id": "3298e121",
   "metadata": {
    "id": "3298e121"
   },
   "source": [
    "--------------Type the answers below this line--------------"
   ]
  },
  {
   "cell_type": "markdown",
   "id": "3cc8e0cb",
   "metadata": {
    "id": "3cc8e0cb"
   },
   "source": [
    "# 2. Data Acquisition\n",
    "\n",
    "For the problem identified , find an appropriate data set (Your data set must\n",
    "be unique with minimum **20 features and 10k rows**) from any public data source.\n",
    "\n",
    "---\n",
    "\n",
    "\n",
    "\n",
    "## 2.1 Download the data directly\n",
    "\n"
   ]
  },
  {
   "cell_type": "code",
   "execution_count": 14,
   "id": "4b51d895",
   "metadata": {
    "id": "4b51d895"
   },
   "outputs": [],
   "source": [
    "##---------Type the code below this line------------------##\n",
    "import requests\n",
    "import io\n",
    "import pandas as pd\n",
    "# data url = https://raw.githubusercontent.com/somudas93/synthetic-data/main/credit_card_transactions_2.csv\n",
    "url = \"https://raw.githubusercontent.com/somudas93/synthetic-data/main/credit_card_transactions_2.csv\"\n",
    "s = requests.get(url).content"
   ]
  },
  {
   "cell_type": "markdown",
   "id": "49530d0c",
   "metadata": {
    "id": "49530d0c"
   },
   "source": [
    "## 2.2 Code for converting the above downloaded data into a dataframe"
   ]
  },
  {
   "cell_type": "code",
   "execution_count": 15,
   "id": "c1f4c171",
   "metadata": {
    "id": "c1f4c171"
   },
   "outputs": [],
   "source": [
    "##---------Type the code below this line------------------##\n",
    "df = pd.read_csv(io.StringIO(s.decode('utf-8')))"
   ]
  },
  {
   "cell_type": "markdown",
   "id": "7b1fea4d",
   "metadata": {
    "id": "7b1fea4d"
   },
   "source": [
    "## 2.3 Confirm the data has been correctly by displaying the first 5 and last 5 records."
   ]
  },
  {
   "cell_type": "code",
   "execution_count": 18,
   "id": "624e6c58",
   "metadata": {
    "id": "624e6c58"
   },
   "outputs": [
    {
     "name": "stdout",
     "output_type": "stream",
     "text": [
      "                   timestamp     amount        merchant       card_number  \\\n",
      "0  2023-07-07 16:20:46+05:30  418586.24      Kala-Dubey  4798283108635285   \n",
      "1  2023-03-15 07:30:24+05:30  297349.60     Ramesh-Raja  4178121696104373   \n",
      "2  2023-03-13 23:39:09+05:30  154621.18        Saha Inc  4155153282362328   \n",
      "3  2023-08-15 21:24:35+05:30  127482.98      Shah-Dutta  4535828500531769   \n",
      "4  2023-05-30 22:37:05+05:30  293875.37  Matthews Group  4293117735049421   \n",
      "\n",
      "         card_holder transaction_type        category  \\\n",
      "0      Bhamini Amble         transfer  transportation   \n",
      "1        Arnav Saraf           refund            food   \n",
      "2           Jiya Raj         transfer            food   \n",
      "3    Elakshi Trivedi         purchase  transportation   \n",
      "4  Timothy Rodriguez       withdrawal  transportation   \n",
      "\n",
      "                                          location          country currency  \\\n",
      "0                   036\\nRay Path\\nPhagwara-818840  Phagwara-818840      EUR   \n",
      "1                  57/70, Krish Road, Satna 118526           118526      GBP   \n",
      "2                  19, Banerjee Zila\\nDewas 653466           653466      EUR   \n",
      "3             22/419\\nRavel Marg, Amaravati 572447           572447      JPY   \n",
      "4  849 Gomez Tunnel Apt. 759\\nWest Shane, NC 94532            94532      JPY   \n",
      "\n",
      "   ...   latitude   longitude  is_flagged                  partner  \\\n",
      "0  ... -46.300192  -80.021970        True  Dugar, Iyengar and Goel   \n",
      "1  ...  89.578963 -161.144535        True              Rastogi LLC   \n",
      "2  ... -67.931223   71.298217       False                 Mane LLC   \n",
      "3  ... -46.090380    2.334490       False                Lall-Kale   \n",
      "4  ... -68.170575 -126.420756        True                Bruce Inc   \n",
      "\n",
      "   partner_type                        transaction_id approval_code  \\\n",
      "0        vendor  2c44f5cd-902e-4507-b406-605599f5eabe          7829   \n",
      "1      merchant  a00f49cf-c838-476d-9c8c-eb297184a2d9        976533   \n",
      "2  unidentified  54967e88-0da6-4036-8b3e-e51e2eadd023        853016   \n",
      "3      merchant  7830f1d7-7d7e-47a3-948b-d05344916e29         85840   \n",
      "4          bank  9b69c1e5-fb97-4e32-bebd-ee6271be681e        521601   \n",
      "\n",
      "  terminal_id  customer_segment  needs_investigation  \n",
      "0    12426471            silver                  NaN  \n",
      "1    84952338            silver                  NaN  \n",
      "2    59371152            bronze                  NaN  \n",
      "3    43840072            silver                  NaN  \n",
      "4    84976215            bronze                  NaN  \n",
      "\n",
      "[5 rows x 22 columns]\n",
      "                       timestamp     amount                      merchant  \\\n",
      "14995  2023-12-05 02:36:32+05:30  275360.48                    Gaba-Chand   \n",
      "14996  2023-06-18 15:33:51+05:30  360205.29           Contractor and Sons   \n",
      "14997  2023-06-08 00:04:39+05:30  329922.51  Wali, Bhagat and Viswanathan   \n",
      "14998  2023-05-27 08:57:14+05:30    2759.85        Lewis, Smith and Jones   \n",
      "14999  2023-05-31 01:40:55+05:30  112806.59                     Lal-Shere   \n",
      "\n",
      "            card_number    card_holder transaction_type        category  \\\n",
      "14995  4643557007980539  Hansh Kashyap           refund        clothing   \n",
      "14996  4244278430015974  Ranbir Butala       withdrawal  transportation   \n",
      "14997  4479708101102178     Shalv Rama         purchase  transportation   \n",
      "14998  4538187145159537      Joel Rush         purchase        clothing   \n",
      "14999  4991233131379935     Hazel Dyal           refund  transportation   \n",
      "\n",
      "                                         location               country  \\\n",
      "14995         62/23, Sachdev Ganj, Raichur 310680                310680   \n",
      "14996         99\\nChandra Ganj\\nMaheshtala-244415     Maheshtala-244415   \n",
      "14997  H.No. 411, Bora Zila, Vijayanagaram-529003  Vijayanagaram-529003   \n",
      "14998     47735 Charles Run\\nEast Brian, HI 58555                 58555   \n",
      "14999  H.No. 31, Tandon Nagar, Tirunelveli-693104    Tirunelveli-693104   \n",
      "\n",
      "      currency  ...   latitude   longitude  is_flagged  \\\n",
      "14995      GBP  ...  -2.539665 -117.754493        True   \n",
      "14996      GBP  ...  -0.316852   55.820477        True   \n",
      "14997      EUR  ... -21.932375 -159.897692        True   \n",
      "14998      EUR  ... -22.874042   11.727775       False   \n",
      "14999      USD  ...  17.852881 -166.071162       False   \n",
      "\n",
      "                          partner  partner_type  \\\n",
      "14995                  Rau-Badami          bank   \n",
      "14996                  Lala Group      merchant   \n",
      "14997                    Iyer Ltd        vendor   \n",
      "14998                  Martin PLC          bank   \n",
      "14999  Rout, Kothari and Bhandari    individual   \n",
      "\n",
      "                             transaction_id approval_code terminal_id  \\\n",
      "14995  77af426a-f4de-47ef-a122-31920f946c78        443165    98350790   \n",
      "14996  77da94c6-2ab5-460a-b75a-b602a821e9cb        657957    86997748   \n",
      "14997  2e8a9ba0-71b4-4d9c-8010-99526b515f1b        692733    89592294   \n",
      "14998  038a34b5-8473-4df3-a098-4457a0afd488        154851    20324409   \n",
      "14999  953f5fe4-f9ca-4bb3-a63f-1490b6806248        880204    61562657   \n",
      "\n",
      "       customer_segment  needs_investigation  \n",
      "14995              gold                  NaN  \n",
      "14996            bronze                  NaN  \n",
      "14997            silver                  NaN  \n",
      "14998           premium                  NaN  \n",
      "14999              gold                  NaN  \n",
      "\n",
      "[5 rows x 22 columns]\n"
     ]
    }
   ],
   "source": [
    "##---------Type the code below this line------------------##\n",
    "print(df.head())\n",
    "print(df.tail())"
   ]
  },
  {
   "cell_type": "markdown",
   "id": "bb84fc56",
   "metadata": {
    "id": "bb84fc56"
   },
   "source": [
    "## 2.4 Display the column headings, statistical information, description and statistical summary of the data."
   ]
  },
  {
   "cell_type": "code",
   "execution_count": 25,
   "id": "086ad28e",
   "metadata": {
    "id": "086ad28e"
   },
   "outputs": [
    {
     "name": "stdout",
     "output_type": "stream",
     "text": [
      "\n",
      "Descriptive statistics of the data set:\n",
      "\n",
      "              amount   card_number      latitude     longitude  approval_code  \\\n",
      "count   15000.000000  1.500000e+04  15000.000000  15000.000000   15000.000000   \n",
      "mean   249132.059694  4.497537e+15     -0.158354      0.196128  502296.311933   \n",
      "std    143938.158490  2.894067e+14     52.034348    104.374164  287795.300425   \n",
      "min        76.680000  4.000024e+15    -89.986401   -179.985050       3.000000   \n",
      "25%    126432.937500  4.248729e+15    -45.532677    -90.715122  252318.250000   \n",
      "50%    248293.190000  4.493855e+15     -0.556145      0.959079  502901.000000   \n",
      "75%    372608.432500  4.747369e+15     45.182273     91.490541  752055.250000   \n",
      "max    499932.940000  4.999811e+15     89.985742    179.955045  999956.000000   \n",
      "\n",
      "        terminal_id  \n",
      "count  1.500000e+04  \n",
      "mean   5.011606e+07  \n",
      "std    2.887426e+07  \n",
      "min    5.894000e+03  \n",
      "25%    2.518517e+07  \n",
      "50%    4.998811e+07  \n",
      "75%    7.527067e+07  \n",
      "max    9.999996e+07  \n",
      "count                         15000\n",
      "unique                        14998\n",
      "top       2023-05-04 16:11:40+05:30\n",
      "freq                              2\n",
      "Name: timestamp, dtype: object\n",
      "====================================\n",
      "count     15000.000000\n",
      "mean     249132.059694\n",
      "std      143938.158490\n",
      "min          76.680000\n",
      "25%      126432.937500\n",
      "50%      248293.190000\n",
      "75%      372608.432500\n",
      "max      499932.940000\n",
      "Name: amount, dtype: float64\n",
      "====================================\n",
      "count        15000\n",
      "unique       12884\n",
      "top       Kala Inc\n",
      "freq             8\n",
      "Name: merchant, dtype: object\n",
      "====================================\n",
      "count    1.500000e+04\n",
      "mean     4.497537e+15\n",
      "std      2.894067e+14\n",
      "min      4.000024e+15\n",
      "25%      4.248729e+15\n",
      "50%      4.493855e+15\n",
      "75%      4.747369e+15\n",
      "max      4.999811e+15\n",
      "Name: card_number, dtype: float64\n",
      "====================================\n",
      "count             15000\n",
      "unique            14190\n",
      "top       Alisha Kalita\n",
      "freq                  4\n",
      "Name: card_holder, dtype: object\n",
      "====================================\n",
      "count        15000\n",
      "unique           4\n",
      "top       purchase\n",
      "freq          3814\n",
      "Name: transaction_type, dtype: object\n",
      "====================================\n",
      "count     15000\n",
      "unique        5\n",
      "top        food\n",
      "freq       3101\n",
      "Name: category, dtype: object\n",
      "====================================\n",
      "count                              15000\n",
      "unique                             15000\n",
      "top       036\\nRay Path\\nPhagwara-818840\n",
      "freq                                   1\n",
      "Name: location, dtype: object\n",
      "====================================\n",
      "count     15000\n",
      "unique    14932\n",
      "top       61621\n",
      "freq          3\n",
      "Name: country, dtype: object\n",
      "====================================\n",
      "count     15000\n",
      "unique        4\n",
      "top         GBP\n",
      "freq       3817\n",
      "Name: currency, dtype: object\n",
      "====================================\n",
      "count                                                 15000\n",
      "unique                                                12360\n",
      "top       Mozilla/5.0 (compatible; MSIE 6.0; Windows NT ...\n",
      "freq                                                     16\n",
      "Name: device, dtype: object\n",
      "====================================\n",
      "count              15000\n",
      "unique             15000\n",
      "top       204.147.189.58\n",
      "freq                   1\n",
      "Name: ip_address, dtype: object\n",
      "====================================\n",
      "count    15000.000000\n",
      "mean        -0.158354\n",
      "std         52.034348\n",
      "min        -89.986401\n",
      "25%        -45.532677\n",
      "50%         -0.556145\n",
      "75%         45.182273\n",
      "max         89.985742\n",
      "Name: latitude, dtype: float64\n",
      "====================================\n",
      "count    15000.000000\n",
      "mean         0.196128\n",
      "std        104.374164\n",
      "min       -179.985050\n",
      "25%        -90.715122\n",
      "50%          0.959079\n",
      "75%         91.490541\n",
      "max        179.955045\n",
      "Name: longitude, dtype: float64\n",
      "====================================\n",
      "count     15000\n",
      "unique        2\n",
      "top       False\n",
      "freq       8312\n",
      "Name: is_flagged, dtype: object\n",
      "====================================\n",
      "count        15000\n",
      "unique       12752\n",
      "top       Dhar Inc\n",
      "freq            11\n",
      "Name: partner, dtype: object\n",
      "====================================\n",
      "count     15000\n",
      "unique        5\n",
      "top        bank\n",
      "freq       3034\n",
      "Name: partner_type, dtype: object\n",
      "====================================\n",
      "count                                    15000\n",
      "unique                                   15000\n",
      "top       2c44f5cd-902e-4507-b406-605599f5eabe\n",
      "freq                                         1\n",
      "Name: transaction_id, dtype: object\n",
      "====================================\n",
      "count     15000.000000\n",
      "mean     502296.311933\n",
      "std      287795.300425\n",
      "min           3.000000\n",
      "25%      252318.250000\n",
      "50%      502901.000000\n",
      "75%      752055.250000\n",
      "max      999956.000000\n",
      "Name: approval_code, dtype: float64\n",
      "====================================\n",
      "count    1.500000e+04\n",
      "mean     5.011606e+07\n",
      "std      2.887426e+07\n",
      "min      5.894000e+03\n",
      "25%      2.518517e+07\n",
      "50%      4.998811e+07\n",
      "75%      7.527067e+07\n",
      "max      9.999996e+07\n",
      "Name: terminal_id, dtype: float64\n",
      "====================================\n",
      "count     15000\n",
      "unique        4\n",
      "top        gold\n",
      "freq       3954\n",
      "Name: customer_segment, dtype: object\n",
      "====================================\n",
      "count     4158\n",
      "unique       2\n",
      "top          N\n",
      "freq      2664\n",
      "Name: needs_investigation, dtype: object\n",
      "====================================\n",
      "<class 'pandas.core.frame.DataFrame'>\n",
      "RangeIndex: 15000 entries, 0 to 14999\n",
      "Data columns (total 22 columns):\n",
      " #   Column               Non-Null Count  Dtype  \n",
      "---  ------               --------------  -----  \n",
      " 0   timestamp            15000 non-null  object \n",
      " 1   amount               15000 non-null  float64\n",
      " 2   merchant             15000 non-null  object \n",
      " 3   card_number          15000 non-null  int64  \n",
      " 4   card_holder          15000 non-null  object \n",
      " 5   transaction_type     15000 non-null  object \n",
      " 6   category             15000 non-null  object \n",
      " 7   location             15000 non-null  object \n",
      " 8   country              15000 non-null  object \n",
      " 9   currency             15000 non-null  object \n",
      " 10  device               15000 non-null  object \n",
      " 11  ip_address           15000 non-null  object \n",
      " 12  latitude             15000 non-null  float64\n",
      " 13  longitude            15000 non-null  float64\n",
      " 14  is_flagged           15000 non-null  bool   \n",
      " 15  partner              15000 non-null  object \n",
      " 16  partner_type         15000 non-null  object \n",
      " 17  transaction_id       15000 non-null  object \n",
      " 18  approval_code        15000 non-null  int64  \n",
      " 19  terminal_id          15000 non-null  int64  \n",
      " 20  customer_segment     15000 non-null  object \n",
      " 21  needs_investigation  4158 non-null   object \n",
      "dtypes: bool(1), float64(3), int64(3), object(15)\n",
      "memory usage: 2.4+ MB\n"
     ]
    }
   ],
   "source": [
    "##---------Type the code below this line------------------##\n",
    "print(\"\\nDescriptive statistics of the data set:\\n\")\n",
    "print(df.describe())\n",
    "for col in df.columns:\n",
    "    stats = df[col].describe()\n",
    "    print(stats)\n",
    "    print(\"====================================\")\n",
    "df.info()"
   ]
  },
  {
   "cell_type": "markdown",
   "id": "812edb18",
   "metadata": {
    "id": "812edb18"
   },
   "source": [
    "## 2.5 Write your observations from the above.\n",
    "1. Size of the dataset\n",
    "2. What type of data attributes are there?\n",
    "3. Is there any null data that has to be cleaned?\n",
    "\n",
    "Score: 2 Marks in total (0.25 marks for 2.1, 0.25 marks for 2.2, 0.5 marks for 2.3, 0.25 marks for 2.4, 0.75 marks for 2.5)"
   ]
  },
  {
   "cell_type": "raw",
   "id": "9c179c1e",
   "metadata": {
    "id": "60d80d2f"
   },
   "source": [
    "--------------Type the answers below this line--------------\n",
    "Size of Dataset = 15000\n",
    "Types of Attributes: bool(1), float64(3), int64(3), object(15) where, strings are mostly referred as objects here"
   ]
  },
  {
   "cell_type": "markdown",
   "id": "102e0e36",
   "metadata": {
    "id": "102e0e36"
   },
   "source": [
    "# 3. Data Preparation"
   ]
  },
  {
   "cell_type": "raw",
   "id": "637cb469",
   "metadata": {
    "id": "637cb469"
   },
   "source": [
    "If input data is numerical or categorical, do 3.1, 3.2 and 3.4\n",
    "If input data is text, do 3.3 and 3.4"
   ]
  },
  {
   "cell_type": "markdown",
   "id": "2bcb953b",
   "metadata": {
    "id": "2bcb953b"
   },
   "source": [
    "## 3.1 Check for\n",
    "\n",
    "* duplicate data\n",
    "* missing data\n",
    "* data inconsistencies\n"
   ]
  },
  {
   "cell_type": "code",
   "execution_count": null,
   "id": "5a5b960e",
   "metadata": {
    "id": "5a5b960e"
   },
   "outputs": [],
   "source": [
    "##---------Type the code below this line------------------##"
   ]
  },
  {
   "cell_type": "markdown",
   "id": "06fdebf8",
   "metadata": {
    "id": "06fdebf8"
   },
   "source": [
    "## 3.2 Apply techiniques\n",
    "* to remove duplicate data\n",
    "* to impute or remove missing data\n",
    "* to remove data inconsistencies\n"
   ]
  },
  {
   "cell_type": "code",
   "execution_count": null,
   "id": "dd3118eb",
   "metadata": {
    "id": "dd3118eb"
   },
   "outputs": [],
   "source": [
    "##---------Type the code below this line------------------##"
   ]
  },
  {
   "cell_type": "markdown",
   "id": "2139fedf",
   "metadata": {
    "id": "2139fedf"
   },
   "source": [
    "## 3.3 Encode categorical data"
   ]
  },
  {
   "cell_type": "code",
   "execution_count": null,
   "id": "da6886fc",
   "metadata": {
    "id": "da6886fc"
   },
   "outputs": [],
   "source": [
    "##---------Type the code below this line------------------##"
   ]
  },
  {
   "cell_type": "code",
   "execution_count": null,
   "id": "a3b2cdee",
   "metadata": {
    "id": "a3b2cdee"
   },
   "outputs": [],
   "source": [
    "##---------Type the code below this line------------------##"
   ]
  },
  {
   "cell_type": "markdown",
   "id": "e3cec4fc",
   "metadata": {
    "id": "e3cec4fc"
   },
   "source": [
    "## 3.4 Report\n",
    "\n",
    "Mention and justify the method adopted\n",
    "* to remove duplicate data, if present\n",
    "* to impute or remove missing data, if present\n",
    "* to remove data inconsistencies, if present\n",
    "\n",
    "OR for textdata\n",
    "* How many tokens after step 3?\n",
    "* how may tokens after stop words filtering?\n",
    "\n",
    "If the any of the above are not present, then also add in the report below.\n",
    "\n",
    "Score: 2 Marks (based on the dataset you have, the data prepreation you had to do and report typed, marks will be distributed between 3.1, 3.2, 3.3 and 3.4)"
   ]
  },
  {
   "cell_type": "code",
   "execution_count": null,
   "id": "3ab84ce6",
   "metadata": {
    "id": "3ab84ce6"
   },
   "outputs": [],
   "source": [
    "##---------Type the code below this line------------------##"
   ]
  },
  {
   "cell_type": "code",
   "execution_count": null,
   "id": "f0fea7e8",
   "metadata": {
    "id": "f0fea7e8"
   },
   "outputs": [],
   "source": [
    "##---------Type the code below this line------------------##"
   ]
  },
  {
   "cell_type": "markdown",
   "id": "793cd04b",
   "metadata": {
    "id": "793cd04b"
   },
   "source": [
    "## 3.5 Identify the target variables.\n",
    "\n",
    "* Separate the data from the target such that the dataset is in the form of (X,y) or (Features, Label)\n",
    "\n",
    "* Discretize / Encode the target variable or perform one-hot encoding on the target or any other as and if required.\n",
    "\n",
    "* Report the observations\n",
    "\n",
    "Score: 1 Mark"
   ]
  },
  {
   "cell_type": "code",
   "execution_count": null,
   "id": "c9089b57",
   "metadata": {
    "id": "c9089b57"
   },
   "outputs": [],
   "source": [
    "##---------Type the code below this line------------------##"
   ]
  },
  {
   "cell_type": "markdown",
   "id": "3ae0b5d2",
   "metadata": {
    "id": "3ae0b5d2"
   },
   "source": [
    "# 4. Data Exploration using various plots\n",
    "\n"
   ]
  },
  {
   "cell_type": "markdown",
   "id": "186bf4d7",
   "metadata": {
    "id": "186bf4d7"
   },
   "source": [
    "## 4.1 Scatter plot of each quantitative attribute with the target.\n",
    "\n",
    "Score: 1 Mark"
   ]
  },
  {
   "cell_type": "code",
   "execution_count": null,
   "id": "868d7b27",
   "metadata": {
    "id": "868d7b27"
   },
   "outputs": [],
   "source": [
    "##---------Type the code below this line------------------##"
   ]
  },
  {
   "cell_type": "markdown",
   "id": "575f9e37",
   "metadata": {
    "id": "575f9e37"
   },
   "source": [
    "## 4.2 EDA using visuals\n",
    "* Use (minimum) 2 plots (pair plot, heat map, correlation plot, regression plot...) to identify the optimal set of attributes that can be used for classification.\n",
    "* Name them, explain why you think they can be helpful in the task and perform the plot as well. Unless proper justification for the choice of plots given, no credit will be awarded.\n",
    "\n",
    "Score: 2 Marks"
   ]
  },
  {
   "cell_type": "code",
   "execution_count": null,
   "id": "4d614311",
   "metadata": {
    "id": "4d614311"
   },
   "outputs": [],
   "source": [
    "##---------Type the code below this line------------------##"
   ]
  },
  {
   "cell_type": "markdown",
   "id": "bdbc82a1",
   "metadata": {
    "id": "bdbc82a1"
   },
   "source": [
    "# 5. Data Wrangling\n",
    "\n"
   ]
  },
  {
   "cell_type": "markdown",
   "id": "ca214eb3",
   "metadata": {
    "id": "ca214eb3"
   },
   "source": [
    "## 5.1 Univariate Filters\n",
    "\n",
    "#### Numerical and Categorical Data\n",
    "* Identify top 5 significant features by evaluating each feature independently with respect to the target/other variable by exploring\n",
    "1. Mutual Information (Information Gain)\n",
    "2. Gini index\n",
    "3. Gain Ratio\n",
    "4. Chi-Squared test\n",
    "5. Strenth of Association\n",
    "\n",
    "(From the above 5 you are required to use only any <b>two</b>)\n",
    "\n",
    "\n",
    "\n",
    "Score: 3 Marks"
   ]
  },
  {
   "cell_type": "code",
   "execution_count": null,
   "id": "a85e9754",
   "metadata": {
    "id": "a85e9754"
   },
   "outputs": [],
   "source": [
    "##---------Type the code below this line------------------##"
   ]
  },
  {
   "cell_type": "markdown",
   "id": "38031f24",
   "metadata": {
    "id": "38031f24"
   },
   "source": [
    "## 5.2 Report observations\n",
    "\n",
    "Write your observations from the results of each method. Clearly justify your choice of the method.\n",
    "\n",
    "Score 1 mark"
   ]
  },
  {
   "cell_type": "code",
   "execution_count": null,
   "id": "85c7a3a8",
   "metadata": {
    "id": "85c7a3a8"
   },
   "outputs": [],
   "source": [
    "##---------Type the code below this line------------------##"
   ]
  },
  {
   "cell_type": "markdown",
   "id": "06f1173c",
   "metadata": {
    "id": "06f1173c"
   },
   "source": [
    "# 6. Implement Machine Learning Techniques\n",
    "\n",
    "Use any 2 ML tasks\n",
    "1. Classification  \n",
    "\n",
    "2. Clustering  \n",
    "\n",
    "3. Association Analysis\n",
    "\n",
    "4. Anomaly detection\n",
    "\n",
    "You may use algorithms included in the course, e.g. Decision Tree, K-means etc. or an algorithm you learnt on your own with a brief explanation.\n",
    "A clear justification have to be given for why a certain algorithm was chosen to address your problem.\n",
    "\n",
    "Score: 4 Marks (2 marks each for each algorithm)"
   ]
  },
  {
   "cell_type": "markdown",
   "id": "040afed8",
   "metadata": {
    "id": "040afed8"
   },
   "source": [
    "## 6.1 ML technique 1 + Justification"
   ]
  },
  {
   "cell_type": "code",
   "execution_count": null,
   "id": "7042235d",
   "metadata": {
    "id": "7042235d"
   },
   "outputs": [],
   "source": [
    "##---------Type the code below this line------------------##\n"
   ]
  },
  {
   "cell_type": "markdown",
   "id": "f610ca8c",
   "metadata": {
    "id": "f610ca8c"
   },
   "source": [
    "## 6.2 ML technique 2 + Justification"
   ]
  },
  {
   "cell_type": "code",
   "execution_count": null,
   "id": "9b75e079",
   "metadata": {
    "id": "9b75e079"
   },
   "outputs": [],
   "source": [
    "##---------Type the code below this line------------------##"
   ]
  },
  {
   "cell_type": "markdown",
   "id": "eb57940c",
   "metadata": {
    "id": "eb57940c"
   },
   "source": [
    "## 7. Conclusion\n",
    "\n",
    "Compare the performance of the ML techniques used.\n",
    "\n",
    "Derive values for preformance study metrics like accuracy, precision, recall, F1 Score, AUC-ROC etc to compare the ML algos and plot them. A proper comparision based on different metrics should be done and not just accuracy alone, only then the comparision becomes authentic. You may use Confusion matrix, classification report, Word cloud etc as per the requirement of your application/problem.\n",
    "\n",
    "Score 1 Mark"
   ]
  },
  {
   "cell_type": "code",
   "execution_count": null,
   "id": "9bf06eb1",
   "metadata": {
    "id": "9bf06eb1"
   },
   "outputs": [],
   "source": [
    "##---------Type the code below this line------------------##"
   ]
  },
  {
   "cell_type": "markdown",
   "id": "79ed0137",
   "metadata": {
    "id": "79ed0137"
   },
   "source": [
    "## 8. Solution\n",
    "\n",
    "What is the solution that is proposed to solve the business problem discussed in Section 1. Also share your learnings while working through solving the problem in terms of challenges, observations, decisions made etc.\n",
    "\n",
    "Score 2 Marks"
   ]
  },
  {
   "cell_type": "markdown",
   "id": "324448eb",
   "metadata": {
    "id": "324448eb"
   },
   "source": [
    "--------------Type the answers below this line--------------"
   ]
  },
  {
   "cell_type": "raw",
   "id": "68ab61d5",
   "metadata": {
    "id": "68ab61d5"
   },
   "source": [
    "##---------Type the answer below this line------------------##"
   ]
  },
  {
   "cell_type": "markdown",
   "id": "RcDDQlfbZQ7E",
   "metadata": {
    "id": "RcDDQlfbZQ7E"
   },
   "source": [
    "##NOTE\n",
    "All Late Submissions will incur a penalty of -2 marks. Do ensure on time submission to avoid penalty.\n",
    "\n",
    "Good Luck!!!"
   ]
  }
 ],
 "metadata": {
  "colab": {
   "provenance": []
  },
  "kernelspec": {
   "display_name": "Python 3 (ipykernel)",
   "language": "python",
   "name": "python3"
  },
  "language_info": {
   "codemirror_mode": {
    "name": "ipython",
    "version": 3
   },
   "file_extension": ".py",
   "mimetype": "text/x-python",
   "name": "python",
   "nbconvert_exporter": "python",
   "pygments_lexer": "ipython3",
   "version": "3.11.5"
  }
 },
 "nbformat": 4,
 "nbformat_minor": 5
}
