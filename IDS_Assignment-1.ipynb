{
 "cells": [
  {
   "cell_type": "markdown",
   "id": "9bda93ba",
   "metadata": {
    "id": "9bda93ba"
   },
   "source": [
    "# <center>        **Introduction to Data Science (S2-22_DSECLZG532)-ASSIGNMENT**</center>\n",
    "\n",
    "## Group No\n",
    "\n",
    "## Group Member Names:\n",
    "1. Divya Jyoti Das\n",
    "2. Sweta Das\n",
    "3. Soumya Charan Das\n",
    "4."
   ]
  },
  {
   "cell_type": "markdown",
   "id": "f5d80c60",
   "metadata": {
    "id": "f5d80c60"
   },
   "source": [
    "# 1. Business Understanding\n",
    "\n",
    "Students are expected to identify an analytical problem of your choice. You have to detail the Business Understanding part of your problem under this heading which basically addresses the following questions.\n",
    "\n",
    "   1. What is the business problem that you are trying to solve?\n",
    "   2. What data do you need to answer the above problem?\n",
    "   3. What are the different sources of data?\n",
    "   4. What kind of analytics task are you performing?\n",
    "\n",
    "Score: 1 Mark in total (0.25 mark each)"
   ]
  },
  {
   "cell_type": "raw",
   "id": "3298e121",
   "metadata": {
    "id": "3298e121"
   },
   "source": [
    "--------------Type the answers below this line--------------"
   ]
  },
  {
   "cell_type": "markdown",
   "id": "3cc8e0cb",
   "metadata": {
    "id": "3cc8e0cb"
   },
   "source": [
    "# 2. Data Acquisition\n",
    "\n",
    "For the problem identified , find an appropriate data set (Your data set must\n",
    "be unique with minimum **20 features and 10k rows**) from any public data source.\n",
    "\n",
    "---\n",
    "\n",
    "\n",
    "\n",
    "## 2.1 Download the data directly\n",
    "\n"
   ]
  },
  {
   "cell_type": "code",
   "execution_count": 4,
   "id": "4b51d895",
   "metadata": {
    "id": "4b51d895"
   },
   "outputs": [],
   "source": [
    "##---------Type the code below this line------------------##\n",
    "import requests\n",
    "import io\n",
    "import pandas as pd\n",
    "# data url = https://code.datasciencedojo.com/datasciencedojo/datasets/raw/master/Default%20of%20Credit%20Card%20Clients/default%20of%20credit%20card%20clients.csv\n",
    "url = \"https://code.datasciencedojo.com/datasciencedojo/datasets/raw/master/Online%20News%20Popularity/OnlineNewsPopularity.csv\"\n",
    "s = requests.get(url).content"
   ]
  },
  {
   "cell_type": "markdown",
   "id": "49530d0c",
   "metadata": {
    "id": "49530d0c"
   },
   "source": [
    "## 2.2 Code for converting the above downloaded data into a dataframe"
   ]
  },
  {
   "cell_type": "code",
   "execution_count": 5,
   "id": "c1f4c171",
   "metadata": {
    "id": "c1f4c171"
   },
   "outputs": [],
   "source": [
    "##---------Type the code below this line------------------##\n",
    "df = pd.read_csv(io.StringIO(s.decode('utf-8')))"
   ]
  },
  {
   "cell_type": "markdown",
   "id": "7b1fea4d",
   "metadata": {
    "id": "7b1fea4d"
   },
   "source": [
    "## 2.3 Confirm the data has been correctly by displaying the first 5 and last 5 records."
   ]
  },
  {
   "cell_type": "code",
   "execution_count": 8,
   "id": "624e6c58",
   "metadata": {
    "id": "624e6c58"
   },
   "outputs": [
    {
     "name": "stdout",
     "output_type": "stream",
     "text": [
      "                                                 url   timedelta  \\\n",
      "0  http://mashable.com/2013/01/07/amazon-instant-...       731.0   \n",
      "1  http://mashable.com/2013/01/07/ap-samsung-spon...       731.0   \n",
      "2  http://mashable.com/2013/01/07/apple-40-billio...       731.0   \n",
      "3  http://mashable.com/2013/01/07/astronaut-notre...       731.0   \n",
      "4   http://mashable.com/2013/01/07/att-u-verse-apps/       731.0   \n",
      "\n",
      "    n_tokens_title   n_tokens_content   n_unique_tokens   n_non_stop_words  \\\n",
      "0             12.0              219.0          0.663594                1.0   \n",
      "1              9.0              255.0          0.604743                1.0   \n",
      "2              9.0              211.0          0.575130                1.0   \n",
      "3              9.0              531.0          0.503788                1.0   \n",
      "4             13.0             1072.0          0.415646                1.0   \n",
      "\n",
      "    n_non_stop_unique_tokens   num_hrefs   num_self_hrefs   num_imgs  ...  \\\n",
      "0                   0.815385         4.0              2.0        1.0  ...   \n",
      "1                   0.791946         3.0              1.0        1.0  ...   \n",
      "2                   0.663866         3.0              1.0        1.0  ...   \n",
      "3                   0.665635         9.0              0.0        1.0  ...   \n",
      "4                   0.540890        19.0             19.0       20.0  ...   \n",
      "\n",
      "    min_positive_polarity   max_positive_polarity   avg_negative_polarity  \\\n",
      "0                0.100000                     0.7               -0.350000   \n",
      "1                0.033333                     0.7               -0.118750   \n",
      "2                0.100000                     1.0               -0.466667   \n",
      "3                0.136364                     0.8               -0.369697   \n",
      "4                0.033333                     1.0               -0.220192   \n",
      "\n",
      "    min_negative_polarity   max_negative_polarity   title_subjectivity  \\\n",
      "0                  -0.600               -0.200000             0.500000   \n",
      "1                  -0.125               -0.100000             0.000000   \n",
      "2                  -0.800               -0.133333             0.000000   \n",
      "3                  -0.600               -0.166667             0.000000   \n",
      "4                  -0.500               -0.050000             0.454545   \n",
      "\n",
      "    title_sentiment_polarity   abs_title_subjectivity  \\\n",
      "0                  -0.187500                 0.000000   \n",
      "1                   0.000000                 0.500000   \n",
      "2                   0.000000                 0.500000   \n",
      "3                   0.000000                 0.500000   \n",
      "4                   0.136364                 0.045455   \n",
      "\n",
      "    abs_title_sentiment_polarity   shares  \n",
      "0                       0.187500      593  \n",
      "1                       0.000000      711  \n",
      "2                       0.000000     1500  \n",
      "3                       0.000000     1200  \n",
      "4                       0.136364      505  \n",
      "\n",
      "[5 rows x 61 columns]\n",
      "                                                     url   timedelta  \\\n",
      "39639  http://mashable.com/2014/12/27/samsung-app-aut...         8.0   \n",
      "39640  http://mashable.com/2014/12/27/seth-rogen-jame...         8.0   \n",
      "39641  http://mashable.com/2014/12/27/son-pays-off-mo...         8.0   \n",
      "39642     http://mashable.com/2014/12/27/ukraine-blasts/         8.0   \n",
      "39643  http://mashable.com/2014/12/27/youtube-channel...         8.0   \n",
      "\n",
      "        n_tokens_title   n_tokens_content   n_unique_tokens  \\\n",
      "39639             11.0              346.0          0.529052   \n",
      "39640             12.0              328.0          0.696296   \n",
      "39641             10.0              442.0          0.516355   \n",
      "39642              6.0              682.0          0.539493   \n",
      "39643             10.0              157.0          0.701987   \n",
      "\n",
      "        n_non_stop_words   n_non_stop_unique_tokens   num_hrefs  \\\n",
      "39639                1.0                   0.684783         9.0   \n",
      "39640                1.0                   0.885057         9.0   \n",
      "39641                1.0                   0.644128        24.0   \n",
      "39642                1.0                   0.692661        10.0   \n",
      "39643                1.0                   0.846154         1.0   \n",
      "\n",
      "        num_self_hrefs   num_imgs  ...   min_positive_polarity  \\\n",
      "39639              7.0        1.0  ...                0.100000   \n",
      "39640              7.0        3.0  ...                0.136364   \n",
      "39641              1.0       12.0  ...                0.136364   \n",
      "39642              1.0        1.0  ...                0.062500   \n",
      "39643              1.0        0.0  ...                0.100000   \n",
      "\n",
      "        max_positive_polarity   avg_negative_polarity   min_negative_polarity  \\\n",
      "39639                    0.75               -0.260000                    -0.5   \n",
      "39640                    0.70               -0.211111                    -0.4   \n",
      "39641                    0.50               -0.356439                    -0.8   \n",
      "39642                    0.50               -0.205246                    -0.5   \n",
      "39643                    0.50               -0.200000                    -0.2   \n",
      "\n",
      "        max_negative_polarity   title_subjectivity   title_sentiment_polarity  \\\n",
      "39639               -0.125000             0.100000                   0.000000   \n",
      "39640               -0.100000             0.300000                   1.000000   \n",
      "39641               -0.166667             0.454545                   0.136364   \n",
      "39642               -0.012500             0.000000                   0.000000   \n",
      "39643               -0.200000             0.333333                   0.250000   \n",
      "\n",
      "        abs_title_subjectivity   abs_title_sentiment_polarity   shares  \n",
      "39639                 0.400000                       0.000000     1800  \n",
      "39640                 0.200000                       1.000000     1900  \n",
      "39641                 0.045455                       0.136364     1900  \n",
      "39642                 0.500000                       0.000000     1100  \n",
      "39643                 0.166667                       0.250000     1300  \n",
      "\n",
      "[5 rows x 61 columns]\n",
      "39644\n"
     ]
    }
   ],
   "source": [
    "##---------Type the code below this line------------------##\n",
    "print(df.head())\n",
    "print(df.tail())\n",
    "print(len(df.index))"
   ]
  },
  {
   "cell_type": "markdown",
   "id": "bb84fc56",
   "metadata": {
    "id": "bb84fc56"
   },
   "source": [
    "## 2.4 Display the column headings, statistical information, description and statistical summary of the data."
   ]
  },
  {
   "cell_type": "code",
   "execution_count": 9,
   "id": "086ad28e",
   "metadata": {
    "id": "086ad28e"
   },
   "outputs": [
    {
     "name": "stdout",
     "output_type": "stream",
     "text": [
      "\n",
      "Descriptive statistics of the data set:\n",
      "\n",
      "          timedelta   n_tokens_title   n_tokens_content   n_unique_tokens  \\\n",
      "count  39644.000000     39644.000000       39644.000000      39644.000000   \n",
      "mean     354.530471        10.398749         546.514731          0.548216   \n",
      "std      214.163767         2.114037         471.107508          3.520708   \n",
      "min        8.000000         2.000000           0.000000          0.000000   \n",
      "25%      164.000000         9.000000         246.000000          0.470870   \n",
      "50%      339.000000        10.000000         409.000000          0.539226   \n",
      "75%      542.000000        12.000000         716.000000          0.608696   \n",
      "max      731.000000        23.000000        8474.000000        701.000000   \n",
      "\n",
      "        n_non_stop_words   n_non_stop_unique_tokens     num_hrefs  \\\n",
      "count       39644.000000               39644.000000  39644.000000   \n",
      "mean            0.996469                   0.689175     10.883690   \n",
      "std             5.231231                   3.264816     11.332017   \n",
      "min             0.000000                   0.000000      0.000000   \n",
      "25%             1.000000                   0.625739      4.000000   \n",
      "50%             1.000000                   0.690476      8.000000   \n",
      "75%             1.000000                   0.754630     14.000000   \n",
      "max          1042.000000                 650.000000    304.000000   \n",
      "\n",
      "        num_self_hrefs      num_imgs    num_videos  ...  \\\n",
      "count     39644.000000  39644.000000  39644.000000  ...   \n",
      "mean          3.293638      4.544143      1.249874  ...   \n",
      "std           3.855141      8.309434      4.107855  ...   \n",
      "min           0.000000      0.000000      0.000000  ...   \n",
      "25%           1.000000      1.000000      0.000000  ...   \n",
      "50%           3.000000      1.000000      0.000000  ...   \n",
      "75%           4.000000      4.000000      1.000000  ...   \n",
      "max         116.000000    128.000000     91.000000  ...   \n",
      "\n",
      "        min_positive_polarity   max_positive_polarity   avg_negative_polarity  \\\n",
      "count            39644.000000            39644.000000            39644.000000   \n",
      "mean                 0.095446                0.756728               -0.259524   \n",
      "std                  0.071315                0.247786                0.127726   \n",
      "min                  0.000000                0.000000               -1.000000   \n",
      "25%                  0.050000                0.600000               -0.328383   \n",
      "50%                  0.100000                0.800000               -0.253333   \n",
      "75%                  0.100000                1.000000               -0.186905   \n",
      "max                  1.000000                1.000000                0.000000   \n",
      "\n",
      "        min_negative_polarity   max_negative_polarity   title_subjectivity  \\\n",
      "count            39644.000000            39644.000000         39644.000000   \n",
      "mean                -0.521944               -0.107500             0.282353   \n",
      "std                  0.290290                0.095373             0.324247   \n",
      "min                 -1.000000               -1.000000             0.000000   \n",
      "25%                 -0.700000               -0.125000             0.000000   \n",
      "50%                 -0.500000               -0.100000             0.150000   \n",
      "75%                 -0.300000               -0.050000             0.500000   \n",
      "max                  0.000000                0.000000             1.000000   \n",
      "\n",
      "        title_sentiment_polarity   abs_title_subjectivity  \\\n",
      "count               39644.000000             39644.000000   \n",
      "mean                    0.071425                 0.341843   \n",
      "std                     0.265450                 0.188791   \n",
      "min                    -1.000000                 0.000000   \n",
      "25%                     0.000000                 0.166667   \n",
      "50%                     0.000000                 0.500000   \n",
      "75%                     0.150000                 0.500000   \n",
      "max                     1.000000                 0.500000   \n",
      "\n",
      "        abs_title_sentiment_polarity         shares  \n",
      "count                   39644.000000   39644.000000  \n",
      "mean                        0.156064    3395.380184  \n",
      "std                         0.226294   11626.950749  \n",
      "min                         0.000000       1.000000  \n",
      "25%                         0.000000     946.000000  \n",
      "50%                         0.000000    1400.000000  \n",
      "75%                         0.250000    2800.000000  \n",
      "max                         1.000000  843300.000000  \n",
      "\n",
      "[8 rows x 60 columns]\n",
      "count                                                 39644\n",
      "unique                                                39644\n",
      "top       http://mashable.com/2013/01/07/amazon-instant-...\n",
      "freq                                                      1\n",
      "Name: url, dtype: object\n",
      "====================================\n",
      "count    39644.000000\n",
      "mean       354.530471\n",
      "std        214.163767\n",
      "min          8.000000\n",
      "25%        164.000000\n",
      "50%        339.000000\n",
      "75%        542.000000\n",
      "max        731.000000\n",
      "Name:  timedelta, dtype: float64\n",
      "====================================\n",
      "count    39644.000000\n",
      "mean        10.398749\n",
      "std          2.114037\n",
      "min          2.000000\n",
      "25%          9.000000\n",
      "50%         10.000000\n",
      "75%         12.000000\n",
      "max         23.000000\n",
      "Name:  n_tokens_title, dtype: float64\n",
      "====================================\n",
      "count    39644.000000\n",
      "mean       546.514731\n",
      "std        471.107508\n",
      "min          0.000000\n",
      "25%        246.000000\n",
      "50%        409.000000\n",
      "75%        716.000000\n",
      "max       8474.000000\n",
      "Name:  n_tokens_content, dtype: float64\n",
      "====================================\n",
      "count    39644.000000\n",
      "mean         0.548216\n",
      "std          3.520708\n",
      "min          0.000000\n",
      "25%          0.470870\n",
      "50%          0.539226\n",
      "75%          0.608696\n",
      "max        701.000000\n",
      "Name:  n_unique_tokens, dtype: float64\n",
      "====================================\n",
      "count    39644.000000\n",
      "mean         0.996469\n",
      "std          5.231231\n",
      "min          0.000000\n",
      "25%          1.000000\n",
      "50%          1.000000\n",
      "75%          1.000000\n",
      "max       1042.000000\n",
      "Name:  n_non_stop_words, dtype: float64\n",
      "====================================\n",
      "count    39644.000000\n",
      "mean         0.689175\n",
      "std          3.264816\n",
      "min          0.000000\n",
      "25%          0.625739\n",
      "50%          0.690476\n",
      "75%          0.754630\n",
      "max        650.000000\n",
      "Name:  n_non_stop_unique_tokens, dtype: float64\n",
      "====================================\n",
      "count    39644.000000\n",
      "mean        10.883690\n",
      "std         11.332017\n",
      "min          0.000000\n",
      "25%          4.000000\n",
      "50%          8.000000\n",
      "75%         14.000000\n",
      "max        304.000000\n",
      "Name:  num_hrefs, dtype: float64\n",
      "====================================\n",
      "count    39644.000000\n",
      "mean         3.293638\n",
      "std          3.855141\n",
      "min          0.000000\n",
      "25%          1.000000\n",
      "50%          3.000000\n",
      "75%          4.000000\n",
      "max        116.000000\n",
      "Name:  num_self_hrefs, dtype: float64\n",
      "====================================\n",
      "count    39644.000000\n",
      "mean         4.544143\n",
      "std          8.309434\n",
      "min          0.000000\n",
      "25%          1.000000\n",
      "50%          1.000000\n",
      "75%          4.000000\n",
      "max        128.000000\n",
      "Name:  num_imgs, dtype: float64\n",
      "====================================\n",
      "count    39644.000000\n",
      "mean         1.249874\n",
      "std          4.107855\n",
      "min          0.000000\n",
      "25%          0.000000\n",
      "50%          0.000000\n",
      "75%          1.000000\n",
      "max         91.000000\n",
      "Name:  num_videos, dtype: float64\n",
      "====================================\n",
      "count    39644.000000\n",
      "mean         4.548239\n",
      "std          0.844406\n",
      "min          0.000000\n",
      "25%          4.478404\n",
      "50%          4.664082\n",
      "75%          4.854839\n",
      "max          8.041534\n",
      "Name:  average_token_length, dtype: float64\n",
      "====================================\n",
      "count    39644.000000\n",
      "mean         7.223767\n",
      "std          1.909130\n",
      "min          1.000000\n",
      "25%          6.000000\n",
      "50%          7.000000\n",
      "75%          9.000000\n",
      "max         10.000000\n",
      "Name:  num_keywords, dtype: float64\n",
      "====================================\n",
      "count    39644.000000\n",
      "mean         0.052946\n",
      "std          0.223929\n",
      "min          0.000000\n",
      "25%          0.000000\n",
      "50%          0.000000\n",
      "75%          0.000000\n",
      "max          1.000000\n",
      "Name:  data_channel_is_lifestyle, dtype: float64\n",
      "====================================\n",
      "count    39644.000000\n",
      "mean         0.178009\n",
      "std          0.382525\n",
      "min          0.000000\n",
      "25%          0.000000\n",
      "50%          0.000000\n",
      "75%          0.000000\n",
      "max          1.000000\n",
      "Name:  data_channel_is_entertainment, dtype: float64\n",
      "====================================\n",
      "count    39644.000000\n",
      "mean         0.157855\n",
      "std          0.364610\n",
      "min          0.000000\n",
      "25%          0.000000\n",
      "50%          0.000000\n",
      "75%          0.000000\n",
      "max          1.000000\n",
      "Name:  data_channel_is_bus, dtype: float64\n",
      "====================================\n",
      "count    39644.000000\n",
      "mean         0.058597\n",
      "std          0.234871\n",
      "min          0.000000\n",
      "25%          0.000000\n",
      "50%          0.000000\n",
      "75%          0.000000\n",
      "max          1.000000\n",
      "Name:  data_channel_is_socmed, dtype: float64\n",
      "====================================\n",
      "count    39644.000000\n",
      "mean         0.185299\n",
      "std          0.388545\n",
      "min          0.000000\n",
      "25%          0.000000\n",
      "50%          0.000000\n",
      "75%          0.000000\n",
      "max          1.000000\n",
      "Name:  data_channel_is_tech, dtype: float64\n",
      "====================================\n",
      "count    39644.000000\n",
      "mean         0.212567\n",
      "std          0.409129\n",
      "min          0.000000\n",
      "25%          0.000000\n",
      "50%          0.000000\n",
      "75%          0.000000\n",
      "max          1.000000\n",
      "Name:  data_channel_is_world, dtype: float64\n",
      "====================================\n",
      "count    39644.000000\n",
      "mean        26.106801\n",
      "std         69.633215\n",
      "min         -1.000000\n",
      "25%         -1.000000\n",
      "50%         -1.000000\n",
      "75%          4.000000\n",
      "max        377.000000\n",
      "Name:  kw_min_min, dtype: float64\n",
      "====================================\n",
      "count     39644.000000\n",
      "mean       1153.951682\n",
      "std        3857.990877\n",
      "min           0.000000\n",
      "25%         445.000000\n",
      "50%         660.000000\n",
      "75%        1000.000000\n",
      "max      298400.000000\n",
      "Name:  kw_max_min, dtype: float64\n",
      "====================================\n",
      "count    39644.000000\n",
      "mean       312.366967\n",
      "std        620.783887\n",
      "min         -1.000000\n",
      "25%        141.750000\n",
      "50%        235.500000\n",
      "75%        357.000000\n",
      "max      42827.857143\n",
      "Name:  kw_avg_min, dtype: float64\n",
      "====================================\n",
      "count     39644.000000\n",
      "mean      13612.354102\n",
      "std       57986.029357\n",
      "min           0.000000\n",
      "25%           0.000000\n",
      "50%        1400.000000\n",
      "75%        7900.000000\n",
      "max      843300.000000\n",
      "Name:  kw_min_max, dtype: float64\n",
      "====================================\n",
      "count     39644.000000\n",
      "mean     752324.066694\n",
      "std      214502.129573\n",
      "min           0.000000\n",
      "25%      843300.000000\n",
      "50%      843300.000000\n",
      "75%      843300.000000\n",
      "max      843300.000000\n",
      "Name:  kw_max_max, dtype: float64\n",
      "====================================\n",
      "count     39644.000000\n",
      "mean     259281.938083\n",
      "std      135102.247285\n",
      "min           0.000000\n",
      "25%      172846.875000\n",
      "50%      244572.222223\n",
      "75%      330980.000000\n",
      "max      843300.000000\n",
      "Name:  kw_avg_max, dtype: float64\n",
      "====================================\n",
      "count    39644.000000\n",
      "mean      1117.146610\n",
      "std       1137.456951\n",
      "min         -1.000000\n",
      "25%          0.000000\n",
      "50%       1023.635611\n",
      "75%       2056.781032\n",
      "max       3613.039819\n",
      "Name:  kw_min_avg, dtype: float64\n",
      "====================================\n",
      "count     39644.000000\n",
      "mean       5657.211151\n",
      "std        6098.871957\n",
      "min           0.000000\n",
      "25%        3562.101631\n",
      "50%        4355.688836\n",
      "75%        6019.953968\n",
      "max      298400.000000\n",
      "Name:  kw_max_avg, dtype: float64\n",
      "====================================\n",
      "count    39644.000000\n",
      "mean      3135.858639\n",
      "std       1318.150397\n",
      "min          0.000000\n",
      "25%       2382.448566\n",
      "50%       2870.074878\n",
      "75%       3600.229564\n",
      "max      43567.659946\n",
      "Name:  kw_avg_avg, dtype: float64\n",
      "====================================\n",
      "count     39644.000000\n",
      "mean       3998.755396\n",
      "std       19738.670516\n",
      "min           0.000000\n",
      "25%         639.000000\n",
      "50%        1200.000000\n",
      "75%        2600.000000\n",
      "max      843300.000000\n",
      "Name:  self_reference_min_shares, dtype: float64\n",
      "====================================\n",
      "count     39644.000000\n",
      "mean      10329.212662\n",
      "std       41027.576613\n",
      "min           0.000000\n",
      "25%        1100.000000\n",
      "50%        2800.000000\n",
      "75%        8000.000000\n",
      "max      843300.000000\n",
      "Name:  self_reference_max_shares, dtype: float64\n",
      "====================================\n",
      "count     39644.000000\n",
      "mean       6401.697580\n",
      "std       24211.332231\n",
      "min           0.000000\n",
      "25%         981.187500\n",
      "50%        2200.000000\n",
      "75%        5200.000000\n",
      "max      843300.000000\n",
      "Name:  self_reference_avg_sharess, dtype: float64\n",
      "====================================\n",
      "count    39644.000000\n",
      "mean         0.168020\n",
      "std          0.373889\n",
      "min          0.000000\n",
      "25%          0.000000\n",
      "50%          0.000000\n",
      "75%          0.000000\n",
      "max          1.000000\n",
      "Name:  weekday_is_monday, dtype: float64\n",
      "====================================\n",
      "count    39644.000000\n",
      "mean         0.186409\n",
      "std          0.389441\n",
      "min          0.000000\n",
      "25%          0.000000\n",
      "50%          0.000000\n",
      "75%          0.000000\n",
      "max          1.000000\n",
      "Name:  weekday_is_tuesday, dtype: float64\n",
      "====================================\n",
      "count    39644.000000\n",
      "mean         0.187544\n",
      "std          0.390353\n",
      "min          0.000000\n",
      "25%          0.000000\n",
      "50%          0.000000\n",
      "75%          0.000000\n",
      "max          1.000000\n",
      "Name:  weekday_is_wednesday, dtype: float64\n",
      "====================================\n",
      "count    39644.000000\n",
      "mean         0.183306\n",
      "std          0.386922\n",
      "min          0.000000\n",
      "25%          0.000000\n",
      "50%          0.000000\n",
      "75%          0.000000\n",
      "max          1.000000\n",
      "Name:  weekday_is_thursday, dtype: float64\n",
      "====================================\n",
      "count    39644.000000\n",
      "mean         0.143805\n",
      "std          0.350896\n",
      "min          0.000000\n",
      "25%          0.000000\n",
      "50%          0.000000\n",
      "75%          0.000000\n",
      "max          1.000000\n",
      "Name:  weekday_is_friday, dtype: float64\n",
      "====================================\n",
      "count    39644.000000\n",
      "mean         0.061876\n",
      "std          0.240933\n",
      "min          0.000000\n",
      "25%          0.000000\n",
      "50%          0.000000\n",
      "75%          0.000000\n",
      "max          1.000000\n",
      "Name:  weekday_is_saturday, dtype: float64\n",
      "====================================\n",
      "count    39644.000000\n",
      "mean         0.069039\n",
      "std          0.253524\n",
      "min          0.000000\n",
      "25%          0.000000\n",
      "50%          0.000000\n",
      "75%          0.000000\n",
      "max          1.000000\n",
      "Name:  weekday_is_sunday, dtype: float64\n",
      "====================================\n",
      "count    39644.000000\n",
      "mean         0.130915\n",
      "std          0.337312\n",
      "min          0.000000\n",
      "25%          0.000000\n",
      "50%          0.000000\n",
      "75%          0.000000\n",
      "max          1.000000\n",
      "Name:  is_weekend, dtype: float64\n",
      "====================================\n",
      "count    39644.000000\n",
      "mean         0.184599\n",
      "std          0.262975\n",
      "min          0.000000\n",
      "25%          0.025051\n",
      "50%          0.033387\n",
      "75%          0.240958\n",
      "max          0.926994\n",
      "Name:  LDA_00, dtype: float64\n",
      "====================================\n",
      "count    39644.000000\n",
      "mean         0.141256\n",
      "std          0.219707\n",
      "min          0.000000\n",
      "25%          0.025012\n",
      "50%          0.033345\n",
      "75%          0.150831\n",
      "max          0.925947\n",
      "Name:  LDA_01, dtype: float64\n",
      "====================================\n",
      "count    39644.000000\n",
      "mean         0.216321\n",
      "std          0.282145\n",
      "min          0.000000\n",
      "25%          0.028571\n",
      "50%          0.040004\n",
      "75%          0.334218\n",
      "max          0.919999\n",
      "Name:  LDA_02, dtype: float64\n",
      "====================================\n",
      "count    39644.000000\n",
      "mean         0.223770\n",
      "std          0.295191\n",
      "min          0.000000\n",
      "25%          0.028571\n",
      "50%          0.040001\n",
      "75%          0.375763\n",
      "max          0.926534\n",
      "Name:  LDA_03, dtype: float64\n",
      "====================================\n",
      "count    39644.000000\n",
      "mean         0.234029\n",
      "std          0.289183\n",
      "min          0.000000\n",
      "25%          0.028574\n",
      "50%          0.040727\n",
      "75%          0.399986\n",
      "max          0.927191\n",
      "Name:  LDA_04, dtype: float64\n",
      "====================================\n",
      "count    39644.000000\n",
      "mean         0.443370\n",
      "std          0.116685\n",
      "min          0.000000\n",
      "25%          0.396167\n",
      "50%          0.453457\n",
      "75%          0.508333\n",
      "max          1.000000\n",
      "Name:  global_subjectivity, dtype: float64\n",
      "====================================\n",
      "count    39644.000000\n",
      "mean         0.119309\n",
      "std          0.096931\n",
      "min         -0.393750\n",
      "25%          0.057757\n",
      "50%          0.119117\n",
      "75%          0.177832\n",
      "max          0.727841\n",
      "Name:  global_sentiment_polarity, dtype: float64\n",
      "====================================\n",
      "count    39644.000000\n",
      "mean         0.039625\n",
      "std          0.017429\n",
      "min          0.000000\n",
      "25%          0.028384\n",
      "50%          0.039023\n",
      "75%          0.050279\n",
      "max          0.155488\n",
      "Name:  global_rate_positive_words, dtype: float64\n",
      "====================================\n",
      "count    39644.000000\n",
      "mean         0.016612\n",
      "std          0.010828\n",
      "min          0.000000\n",
      "25%          0.009615\n",
      "50%          0.015337\n",
      "75%          0.021739\n",
      "max          0.184932\n",
      "Name:  global_rate_negative_words, dtype: float64\n",
      "====================================\n",
      "count    39644.000000\n",
      "mean         0.682150\n",
      "std          0.190206\n",
      "min          0.000000\n",
      "25%          0.600000\n",
      "50%          0.710526\n",
      "75%          0.800000\n",
      "max          1.000000\n",
      "Name:  rate_positive_words, dtype: float64\n",
      "====================================\n",
      "count    39644.000000\n",
      "mean         0.287934\n",
      "std          0.156156\n",
      "min          0.000000\n",
      "25%          0.185185\n",
      "50%          0.280000\n",
      "75%          0.384615\n",
      "max          1.000000\n",
      "Name:  rate_negative_words, dtype: float64\n",
      "====================================\n"
     ]
    },
    {
     "name": "stdout",
     "output_type": "stream",
     "text": [
      "count    39644.000000\n",
      "mean         0.353825\n",
      "std          0.104542\n",
      "min          0.000000\n",
      "25%          0.306244\n",
      "50%          0.358755\n",
      "75%          0.411428\n",
      "max          1.000000\n",
      "Name:  avg_positive_polarity, dtype: float64\n",
      "====================================\n",
      "count    39644.000000\n",
      "mean         0.095446\n",
      "std          0.071315\n",
      "min          0.000000\n",
      "25%          0.050000\n",
      "50%          0.100000\n",
      "75%          0.100000\n",
      "max          1.000000\n",
      "Name:  min_positive_polarity, dtype: float64\n",
      "====================================\n",
      "count    39644.000000\n",
      "mean         0.756728\n",
      "std          0.247786\n",
      "min          0.000000\n",
      "25%          0.600000\n",
      "50%          0.800000\n",
      "75%          1.000000\n",
      "max          1.000000\n",
      "Name:  max_positive_polarity, dtype: float64\n",
      "====================================\n",
      "count    39644.000000\n",
      "mean        -0.259524\n",
      "std          0.127726\n",
      "min         -1.000000\n",
      "25%         -0.328383\n",
      "50%         -0.253333\n",
      "75%         -0.186905\n",
      "max          0.000000\n",
      "Name:  avg_negative_polarity, dtype: float64\n",
      "====================================\n",
      "count    39644.000000\n",
      "mean        -0.521944\n",
      "std          0.290290\n",
      "min         -1.000000\n",
      "25%         -0.700000\n",
      "50%         -0.500000\n",
      "75%         -0.300000\n",
      "max          0.000000\n",
      "Name:  min_negative_polarity, dtype: float64\n",
      "====================================\n",
      "count    39644.000000\n",
      "mean        -0.107500\n",
      "std          0.095373\n",
      "min         -1.000000\n",
      "25%         -0.125000\n",
      "50%         -0.100000\n",
      "75%         -0.050000\n",
      "max          0.000000\n",
      "Name:  max_negative_polarity, dtype: float64\n",
      "====================================\n",
      "count    39644.000000\n",
      "mean         0.282353\n",
      "std          0.324247\n",
      "min          0.000000\n",
      "25%          0.000000\n",
      "50%          0.150000\n",
      "75%          0.500000\n",
      "max          1.000000\n",
      "Name:  title_subjectivity, dtype: float64\n",
      "====================================\n",
      "count    39644.000000\n",
      "mean         0.071425\n",
      "std          0.265450\n",
      "min         -1.000000\n",
      "25%          0.000000\n",
      "50%          0.000000\n",
      "75%          0.150000\n",
      "max          1.000000\n",
      "Name:  title_sentiment_polarity, dtype: float64\n",
      "====================================\n",
      "count    39644.000000\n",
      "mean         0.341843\n",
      "std          0.188791\n",
      "min          0.000000\n",
      "25%          0.166667\n",
      "50%          0.500000\n",
      "75%          0.500000\n",
      "max          0.500000\n",
      "Name:  abs_title_subjectivity, dtype: float64\n",
      "====================================\n",
      "count    39644.000000\n",
      "mean         0.156064\n",
      "std          0.226294\n",
      "min          0.000000\n",
      "25%          0.000000\n",
      "50%          0.000000\n",
      "75%          0.250000\n",
      "max          1.000000\n",
      "Name:  abs_title_sentiment_polarity, dtype: float64\n",
      "====================================\n",
      "count     39644.000000\n",
      "mean       3395.380184\n",
      "std       11626.950749\n",
      "min           1.000000\n",
      "25%         946.000000\n",
      "50%        1400.000000\n",
      "75%        2800.000000\n",
      "max      843300.000000\n",
      "Name:  shares, dtype: float64\n",
      "====================================\n",
      "<class 'pandas.core.frame.DataFrame'>\n",
      "RangeIndex: 39644 entries, 0 to 39643\n",
      "Data columns (total 61 columns):\n",
      " #   Column                          Non-Null Count  Dtype  \n",
      "---  ------                          --------------  -----  \n",
      " 0   url                             39644 non-null  object \n",
      " 1    timedelta                      39644 non-null  float64\n",
      " 2    n_tokens_title                 39644 non-null  float64\n",
      " 3    n_tokens_content               39644 non-null  float64\n",
      " 4    n_unique_tokens                39644 non-null  float64\n",
      " 5    n_non_stop_words               39644 non-null  float64\n",
      " 6    n_non_stop_unique_tokens       39644 non-null  float64\n",
      " 7    num_hrefs                      39644 non-null  float64\n",
      " 8    num_self_hrefs                 39644 non-null  float64\n",
      " 9    num_imgs                       39644 non-null  float64\n",
      " 10   num_videos                     39644 non-null  float64\n",
      " 11   average_token_length           39644 non-null  float64\n",
      " 12   num_keywords                   39644 non-null  float64\n",
      " 13   data_channel_is_lifestyle      39644 non-null  float64\n",
      " 14   data_channel_is_entertainment  39644 non-null  float64\n",
      " 15   data_channel_is_bus            39644 non-null  float64\n",
      " 16   data_channel_is_socmed         39644 non-null  float64\n",
      " 17   data_channel_is_tech           39644 non-null  float64\n",
      " 18   data_channel_is_world          39644 non-null  float64\n",
      " 19   kw_min_min                     39644 non-null  float64\n",
      " 20   kw_max_min                     39644 non-null  float64\n",
      " 21   kw_avg_min                     39644 non-null  float64\n",
      " 22   kw_min_max                     39644 non-null  float64\n",
      " 23   kw_max_max                     39644 non-null  float64\n",
      " 24   kw_avg_max                     39644 non-null  float64\n",
      " 25   kw_min_avg                     39644 non-null  float64\n",
      " 26   kw_max_avg                     39644 non-null  float64\n",
      " 27   kw_avg_avg                     39644 non-null  float64\n",
      " 28   self_reference_min_shares      39644 non-null  float64\n",
      " 29   self_reference_max_shares      39644 non-null  float64\n",
      " 30   self_reference_avg_sharess     39644 non-null  float64\n",
      " 31   weekday_is_monday              39644 non-null  float64\n",
      " 32   weekday_is_tuesday             39644 non-null  float64\n",
      " 33   weekday_is_wednesday           39644 non-null  float64\n",
      " 34   weekday_is_thursday            39644 non-null  float64\n",
      " 35   weekday_is_friday              39644 non-null  float64\n",
      " 36   weekday_is_saturday            39644 non-null  float64\n",
      " 37   weekday_is_sunday              39644 non-null  float64\n",
      " 38   is_weekend                     39644 non-null  float64\n",
      " 39   LDA_00                         39644 non-null  float64\n",
      " 40   LDA_01                         39644 non-null  float64\n",
      " 41   LDA_02                         39644 non-null  float64\n",
      " 42   LDA_03                         39644 non-null  float64\n",
      " 43   LDA_04                         39644 non-null  float64\n",
      " 44   global_subjectivity            39644 non-null  float64\n",
      " 45   global_sentiment_polarity      39644 non-null  float64\n",
      " 46   global_rate_positive_words     39644 non-null  float64\n",
      " 47   global_rate_negative_words     39644 non-null  float64\n",
      " 48   rate_positive_words            39644 non-null  float64\n",
      " 49   rate_negative_words            39644 non-null  float64\n",
      " 50   avg_positive_polarity          39644 non-null  float64\n",
      " 51   min_positive_polarity          39644 non-null  float64\n",
      " 52   max_positive_polarity          39644 non-null  float64\n",
      " 53   avg_negative_polarity          39644 non-null  float64\n",
      " 54   min_negative_polarity          39644 non-null  float64\n",
      " 55   max_negative_polarity          39644 non-null  float64\n",
      " 56   title_subjectivity             39644 non-null  float64\n",
      " 57   title_sentiment_polarity       39644 non-null  float64\n",
      " 58   abs_title_subjectivity         39644 non-null  float64\n",
      " 59   abs_title_sentiment_polarity   39644 non-null  float64\n",
      " 60   shares                         39644 non-null  int64  \n",
      "dtypes: float64(59), int64(1), object(1)\n",
      "memory usage: 18.5+ MB\n"
     ]
    }
   ],
   "source": [
    "##---------Type the code below this line------------------##\n",
    "print(\"\\nDescriptive statistics of the data set:\\n\")\n",
    "print(df.describe())\n",
    "for col in df.columns:\n",
    "    stats = df[col].describe()\n",
    "    print(stats)\n",
    "    print(\"====================================\")\n",
    "df.info()"
   ]
  },
  {
   "cell_type": "markdown",
   "id": "812edb18",
   "metadata": {
    "id": "812edb18"
   },
   "source": [
    "## 2.5 Write your observations from the above.\n",
    "1. Size of the dataset\n",
    "2. What type of data attributes are there?\n",
    "3. Is there any null data that has to be cleaned?\n",
    "\n",
    "Score: 2 Marks in total (0.25 marks for 2.1, 0.25 marks for 2.2, 0.5 marks for 2.3, 0.25 marks for 2.4, 0.75 marks for 2.5)"
   ]
  },
  {
   "cell_type": "raw",
   "id": "9c179c1e",
   "metadata": {
    "id": "60d80d2f"
   },
   "source": [
    "--------------Type the answers below this line--------------\n",
    "Size of Dataset = 39644\n",
    "Types of Attributes: float64(59), int64(1), object(1) where, strings are mostly referred as objects here\n",
    "Is there any null data to be cleaned?: None"
   ]
  },
  {
   "cell_type": "markdown",
   "id": "102e0e36",
   "metadata": {
    "id": "102e0e36"
   },
   "source": [
    "# 3. Data Preparation"
   ]
  },
  {
   "cell_type": "raw",
   "id": "637cb469",
   "metadata": {
    "id": "637cb469"
   },
   "source": [
    "If input data is numerical or categorical, do 3.1, 3.2 and 3.4\n",
    "If input data is text, do 3.3 and 3.4"
   ]
  },
  {
   "cell_type": "markdown",
   "id": "2bcb953b",
   "metadata": {
    "id": "2bcb953b"
   },
   "source": [
    "## 3.1 Check for\n",
    "\n",
    "* duplicate data\n",
    "* missing data\n",
    "* data inconsistencies\n"
   ]
  },
  {
   "cell_type": "code",
   "execution_count": null,
   "id": "5a5b960e",
   "metadata": {
    "id": "5a5b960e"
   },
   "outputs": [],
   "source": [
    "##---------Type the code below this line------------------##"
   ]
  },
  {
   "cell_type": "markdown",
   "id": "06fdebf8",
   "metadata": {
    "id": "06fdebf8"
   },
   "source": [
    "## 3.2 Apply techiniques\n",
    "* to remove duplicate data\n",
    "* to impute or remove missing data\n",
    "* to remove data inconsistencies\n"
   ]
  },
  {
   "cell_type": "code",
   "execution_count": null,
   "id": "dd3118eb",
   "metadata": {
    "id": "dd3118eb"
   },
   "outputs": [],
   "source": [
    "##---------Type the code below this line------------------##"
   ]
  },
  {
   "cell_type": "markdown",
   "id": "2139fedf",
   "metadata": {
    "id": "2139fedf"
   },
   "source": [
    "## 3.3 Encode categorical data"
   ]
  },
  {
   "cell_type": "code",
   "execution_count": null,
   "id": "da6886fc",
   "metadata": {
    "id": "da6886fc"
   },
   "outputs": [],
   "source": [
    "##---------Type the code below this line------------------##"
   ]
  },
  {
   "cell_type": "code",
   "execution_count": null,
   "id": "a3b2cdee",
   "metadata": {
    "id": "a3b2cdee"
   },
   "outputs": [],
   "source": [
    "##---------Type the code below this line------------------##"
   ]
  },
  {
   "cell_type": "markdown",
   "id": "e3cec4fc",
   "metadata": {
    "id": "e3cec4fc"
   },
   "source": [
    "## 3.4 Report\n",
    "\n",
    "Mention and justify the method adopted\n",
    "* to remove duplicate data, if present\n",
    "* to impute or remove missing data, if present\n",
    "* to remove data inconsistencies, if present\n",
    "\n",
    "OR for textdata\n",
    "* How many tokens after step 3?\n",
    "* how may tokens after stop words filtering?\n",
    "\n",
    "If the any of the above are not present, then also add in the report below.\n",
    "\n",
    "Score: 2 Marks (based on the dataset you have, the data prepreation you had to do and report typed, marks will be distributed between 3.1, 3.2, 3.3 and 3.4)"
   ]
  },
  {
   "cell_type": "code",
   "execution_count": null,
   "id": "3ab84ce6",
   "metadata": {
    "id": "3ab84ce6"
   },
   "outputs": [],
   "source": [
    "##---------Type the code below this line------------------##"
   ]
  },
  {
   "cell_type": "code",
   "execution_count": null,
   "id": "f0fea7e8",
   "metadata": {
    "id": "f0fea7e8"
   },
   "outputs": [],
   "source": [
    "##---------Type the code below this line------------------##"
   ]
  },
  {
   "cell_type": "markdown",
   "id": "793cd04b",
   "metadata": {
    "id": "793cd04b"
   },
   "source": [
    "## 3.5 Identify the target variables.\n",
    "\n",
    "* Separate the data from the target such that the dataset is in the form of (X,y) or (Features, Label)\n",
    "\n",
    "* Discretize / Encode the target variable or perform one-hot encoding on the target or any other as and if required.\n",
    "\n",
    "* Report the observations\n",
    "\n",
    "Score: 1 Mark"
   ]
  },
  {
   "cell_type": "code",
   "execution_count": null,
   "id": "c9089b57",
   "metadata": {
    "id": "c9089b57"
   },
   "outputs": [],
   "source": [
    "##---------Type the code below this line------------------##"
   ]
  },
  {
   "cell_type": "markdown",
   "id": "3ae0b5d2",
   "metadata": {
    "id": "3ae0b5d2"
   },
   "source": [
    "# 4. Data Exploration using various plots\n",
    "\n"
   ]
  },
  {
   "cell_type": "markdown",
   "id": "186bf4d7",
   "metadata": {
    "id": "186bf4d7"
   },
   "source": [
    "## 4.1 Scatter plot of each quantitative attribute with the target.\n",
    "\n",
    "Score: 1 Mark"
   ]
  },
  {
   "cell_type": "code",
   "execution_count": null,
   "id": "868d7b27",
   "metadata": {
    "id": "868d7b27"
   },
   "outputs": [],
   "source": [
    "##---------Type the code below this line------------------##"
   ]
  },
  {
   "cell_type": "markdown",
   "id": "575f9e37",
   "metadata": {
    "id": "575f9e37"
   },
   "source": [
    "## 4.2 EDA using visuals\n",
    "* Use (minimum) 2 plots (pair plot, heat map, correlation plot, regression plot...) to identify the optimal set of attributes that can be used for classification.\n",
    "* Name them, explain why you think they can be helpful in the task and perform the plot as well. Unless proper justification for the choice of plots given, no credit will be awarded.\n",
    "\n",
    "Score: 2 Marks"
   ]
  },
  {
   "cell_type": "code",
   "execution_count": null,
   "id": "4d614311",
   "metadata": {
    "id": "4d614311"
   },
   "outputs": [],
   "source": [
    "##---------Type the code below this line------------------##"
   ]
  },
  {
   "cell_type": "markdown",
   "id": "bdbc82a1",
   "metadata": {
    "id": "bdbc82a1"
   },
   "source": [
    "# 5. Data Wrangling\n",
    "\n"
   ]
  },
  {
   "cell_type": "markdown",
   "id": "ca214eb3",
   "metadata": {
    "id": "ca214eb3"
   },
   "source": [
    "## 5.1 Univariate Filters\n",
    "\n",
    "#### Numerical and Categorical Data\n",
    "* Identify top 5 significant features by evaluating each feature independently with respect to the target/other variable by exploring\n",
    "1. Mutual Information (Information Gain)\n",
    "2. Gini index\n",
    "3. Gain Ratio\n",
    "4. Chi-Squared test\n",
    "5. Strenth of Association\n",
    "\n",
    "(From the above 5 you are required to use only any <b>two</b>)\n",
    "\n",
    "\n",
    "\n",
    "Score: 3 Marks"
   ]
  },
  {
   "cell_type": "code",
   "execution_count": null,
   "id": "a85e9754",
   "metadata": {
    "id": "a85e9754"
   },
   "outputs": [],
   "source": [
    "##---------Type the code below this line------------------##"
   ]
  },
  {
   "cell_type": "markdown",
   "id": "38031f24",
   "metadata": {
    "id": "38031f24"
   },
   "source": [
    "## 5.2 Report observations\n",
    "\n",
    "Write your observations from the results of each method. Clearly justify your choice of the method.\n",
    "\n",
    "Score 1 mark"
   ]
  },
  {
   "cell_type": "code",
   "execution_count": null,
   "id": "85c7a3a8",
   "metadata": {
    "id": "85c7a3a8"
   },
   "outputs": [],
   "source": [
    "##---------Type the code below this line------------------##"
   ]
  },
  {
   "cell_type": "markdown",
   "id": "06f1173c",
   "metadata": {
    "id": "06f1173c"
   },
   "source": [
    "# 6. Implement Machine Learning Techniques\n",
    "\n",
    "Use any 2 ML tasks\n",
    "1. Classification  \n",
    "\n",
    "2. Clustering  \n",
    "\n",
    "3. Association Analysis\n",
    "\n",
    "4. Anomaly detection\n",
    "\n",
    "You may use algorithms included in the course, e.g. Decision Tree, K-means etc. or an algorithm you learnt on your own with a brief explanation.\n",
    "A clear justification have to be given for why a certain algorithm was chosen to address your problem.\n",
    "\n",
    "Score: 4 Marks (2 marks each for each algorithm)"
   ]
  },
  {
   "cell_type": "markdown",
   "id": "040afed8",
   "metadata": {
    "id": "040afed8"
   },
   "source": [
    "## 6.1 ML technique 1 + Justification"
   ]
  },
  {
   "cell_type": "code",
   "execution_count": null,
   "id": "7042235d",
   "metadata": {
    "id": "7042235d"
   },
   "outputs": [],
   "source": [
    "##---------Type the code below this line------------------##\n"
   ]
  },
  {
   "cell_type": "markdown",
   "id": "f610ca8c",
   "metadata": {
    "id": "f610ca8c"
   },
   "source": [
    "## 6.2 ML technique 2 + Justification"
   ]
  },
  {
   "cell_type": "code",
   "execution_count": null,
   "id": "9b75e079",
   "metadata": {
    "id": "9b75e079"
   },
   "outputs": [],
   "source": [
    "##---------Type the code below this line------------------##"
   ]
  },
  {
   "cell_type": "markdown",
   "id": "eb57940c",
   "metadata": {
    "id": "eb57940c"
   },
   "source": [
    "## 7. Conclusion\n",
    "\n",
    "Compare the performance of the ML techniques used.\n",
    "\n",
    "Derive values for preformance study metrics like accuracy, precision, recall, F1 Score, AUC-ROC etc to compare the ML algos and plot them. A proper comparision based on different metrics should be done and not just accuracy alone, only then the comparision becomes authentic. You may use Confusion matrix, classification report, Word cloud etc as per the requirement of your application/problem.\n",
    "\n",
    "Score 1 Mark"
   ]
  },
  {
   "cell_type": "code",
   "execution_count": null,
   "id": "9bf06eb1",
   "metadata": {
    "id": "9bf06eb1"
   },
   "outputs": [],
   "source": [
    "##---------Type the code below this line------------------##"
   ]
  },
  {
   "cell_type": "markdown",
   "id": "79ed0137",
   "metadata": {
    "id": "79ed0137"
   },
   "source": [
    "## 8. Solution\n",
    "\n",
    "What is the solution that is proposed to solve the business problem discussed in Section 1. Also share your learnings while working through solving the problem in terms of challenges, observations, decisions made etc.\n",
    "\n",
    "Score 2 Marks"
   ]
  },
  {
   "cell_type": "markdown",
   "id": "324448eb",
   "metadata": {
    "id": "324448eb"
   },
   "source": [
    "--------------Type the answers below this line--------------"
   ]
  },
  {
   "cell_type": "raw",
   "id": "68ab61d5",
   "metadata": {
    "id": "68ab61d5"
   },
   "source": [
    "##---------Type the answer below this line------------------##"
   ]
  },
  {
   "cell_type": "markdown",
   "id": "RcDDQlfbZQ7E",
   "metadata": {
    "id": "RcDDQlfbZQ7E"
   },
   "source": [
    "##NOTE\n",
    "All Late Submissions will incur a penalty of -2 marks. Do ensure on time submission to avoid penalty.\n",
    "\n",
    "Good Luck!!!"
   ]
  }
 ],
 "metadata": {
  "colab": {
   "provenance": []
  },
  "kernelspec": {
   "display_name": "Python 3 (ipykernel)",
   "language": "python",
   "name": "python3"
  },
  "language_info": {
   "codemirror_mode": {
    "name": "ipython",
    "version": 3
   },
   "file_extension": ".py",
   "mimetype": "text/x-python",
   "name": "python",
   "nbconvert_exporter": "python",
   "pygments_lexer": "ipython3",
   "version": "3.11.5"
  }
 },
 "nbformat": 4,
 "nbformat_minor": 5
}
